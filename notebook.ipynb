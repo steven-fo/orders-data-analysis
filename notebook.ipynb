{
 "cells": [
  {
   "cell_type": "markdown",
   "id": "62b4f3c2-2510-438a-befb-d00a47ac3f8f",
   "metadata": {},
   "source": [
    "# Proyek Analisis Data: E-Commerce Public Dataset\n",
    "- Nama: Steven Faustin Orginata\n",
    "- Email: stevenfo0711@gmail.com\n",
    "- Id Dicoding: Steven Faustin Orginata\n",
    "\n",
    "## Menentukan Pertanyaan Bisnis\n",
    "1. State manakah dengan order/pemesanan paling banyak dan paling sedikit?\n",
    "2. Bagaimana persebaran status order/pemesanan?"
   ]
  },
  {
   "cell_type": "markdown",
   "id": "2ff3cbab-fd2f-4597-ba36-0faf28797c8e",
   "metadata": {},
   "source": [
    "## Import library yang diperlukan"
   ]
  },
  {
   "cell_type": "code",
   "execution_count": 1,
   "id": "92801dec-2110-418a-84c2-800a5889cdf6",
   "metadata": {},
   "outputs": [],
   "source": [
    "import numpy as np\n",
    "import pandas as pd\n",
    "import matplotlib.pyplot as plt\n",
    "import seaborn as sns"
   ]
  },
  {
   "cell_type": "markdown",
   "id": "ff8aeee3-d2a7-42b9-b978-f3dd72abd973",
   "metadata": {},
   "source": [
    "## Data Wrangling"
   ]
  },
  {
   "cell_type": "markdown",
   "id": "0259efb7-9770-4fcb-a825-b5eed13426bc",
   "metadata": {},
   "source": [
    "### Gathering Data"
   ]
  },
  {
   "cell_type": "code",
   "execution_count": 2,
   "id": "b11b2cc8-a425-481f-b7df-a4ef07282d04",
   "metadata": {},
   "outputs": [],
   "source": [
    "customers_df = pd.read_csv('data/customers_dataset.csv')\n",
    "orders_df = pd.read_csv('data/orders_dataset.csv')\n",
    "products_df = pd.read_csv('data/products_dataset.csv')"
   ]
  },
  {
   "cell_type": "markdown",
   "id": "8e8342d6-55a1-4b19-9b72-18a0f8ceb0c4",
   "metadata": {},
   "source": [
    "### Assessing Data"
   ]
  },
  {
   "cell_type": "code",
   "execution_count": 6,
   "id": "7a4bbb62-5946-4782-b9b5-8eaabad8a3cc",
   "metadata": {},
   "outputs": [
    {
     "data": {
      "text/plain": [
       "order_id                            0\n",
       "customer_id                         0\n",
       "order_status                        0\n",
       "order_purchase_timestamp            0\n",
       "order_approved_at                 160\n",
       "order_delivered_carrier_date     1783\n",
       "order_delivered_customer_date    2965\n",
       "order_estimated_delivery_date       0\n",
       "dtype: int64"
      ]
     },
     "execution_count": 6,
     "metadata": {},
     "output_type": "execute_result"
    }
   ],
   "source": [
    "orders_df.isna().sum()"
   ]
  },
  {
   "cell_type": "code",
   "execution_count": 7,
   "id": "10a638f6-e085-46fa-ba48-aeef65c6c369",
   "metadata": {},
   "outputs": [
    {
     "data": {
      "text/plain": [
       "0"
      ]
     },
     "execution_count": 7,
     "metadata": {},
     "output_type": "execute_result"
    }
   ],
   "source": [
    "orders_df.duplicated().sum()"
   ]
  },
  {
   "cell_type": "code",
   "execution_count": 8,
   "id": "410b9af6-9ce8-4108-90b9-952bb51a97cd",
   "metadata": {},
   "outputs": [
    {
     "data": {
      "text/plain": [
       "product_id                      0\n",
       "product_category_name         610\n",
       "product_name_lenght           610\n",
       "product_description_lenght    610\n",
       "product_photos_qty            610\n",
       "product_weight_g                2\n",
       "product_length_cm               2\n",
       "product_height_cm               2\n",
       "product_width_cm                2\n",
       "dtype: int64"
      ]
     },
     "execution_count": 8,
     "metadata": {},
     "output_type": "execute_result"
    }
   ],
   "source": [
    "products_df.isna().sum()"
   ]
  },
  {
   "cell_type": "code",
   "execution_count": 9,
   "id": "374e98a9-c22c-4375-bea4-8308baec9583",
   "metadata": {},
   "outputs": [
    {
     "data": {
      "text/plain": [
       "0"
      ]
     },
     "execution_count": 9,
     "metadata": {},
     "output_type": "execute_result"
    }
   ],
   "source": [
    "products_df.duplicated().sum()"
   ]
  },
  {
   "cell_type": "markdown",
   "id": "2984f607-c046-469c-af81-1c793adc1c7b",
   "metadata": {},
   "source": [
    "### Cleaning Data"
   ]
  },
  {
   "cell_type": "code",
   "execution_count": 3,
   "id": "99bd82c7-dccb-417f-8498-615dd1dd73f0",
   "metadata": {},
   "outputs": [],
   "source": [
    "orders_df.order_approved_at.fillna(value=\"2018-02-27 04:31:10\", inplace=True)\n",
    "orders_df.order_delivered_customer_date.fillna(value=\"2018-05-08 23:38:46\", inplace=True)\n",
    "orders_df.order_delivered_carrier_date.fillna(value=\"2018-05-09 15:48:00\", inplace=True)\n",
    "\n",
    "datetime_columns = [\"order_delivered_carrier_date\", \"order_delivered_customer_date\", \"order_estimated_delivery_date\"]\n",
    "for column in datetime_columns:\n",
    "    orders_df[column] = pd.to_datetime(orders_df[column])"
   ]
  },
  {
   "cell_type": "code",
   "execution_count": 11,
   "id": "5f9cc8ff-f62b-4b66-b81b-7c6b572428a1",
   "metadata": {},
   "outputs": [],
   "source": [
    "products_df.dropna(axis=0, inplace=True)"
   ]
  },
  {
   "cell_type": "markdown",
   "id": "1c1fb3a5-eda4-4d8a-bbab-a4f8993e91c3",
   "metadata": {},
   "source": [
    "#### Menggabungkan data orders dan customers"
   ]
  },
  {
   "cell_type": "code",
   "execution_count": 11,
   "id": "4b893bee-4f2a-4d30-84bd-2751071562db",
   "metadata": {},
   "outputs": [],
   "source": [
    "orders_customers_df = pd.merge(\n",
    "    left=orders_df,\n",
    "    right=customers_df,\n",
    "    how=\"left\",\n",
    "    left_on=\"customer_id\",\n",
    "    right_on=\"customer_id\"\n",
    ")"
   ]
  },
  {
   "cell_type": "code",
   "execution_count": 6,
   "id": "34a44769-e2c0-445c-b438-0b1aa86c1b50",
   "metadata": {},
   "outputs": [],
   "source": [
    "orders_customers_df.to_csv(\"orders_customers.csv\", index=False)"
   ]
  },
  {
   "cell_type": "markdown",
   "id": "bc89a5a6-0aa2-4f55-9d28-98faabdc014d",
   "metadata": {},
   "source": [
    "## Exploratory Data Analysis (EDA)"
   ]
  },
  {
   "cell_type": "markdown",
   "id": "429dba62-1904-4dfb-9971-7e45befffae4",
   "metadata": {},
   "source": [
    "### Explore: orders data"
   ]
  },
  {
   "cell_type": "code",
   "execution_count": 12,
   "id": "9149fa9e-0727-4230-a5f8-856f668de987",
   "metadata": {},
   "outputs": [
    {
     "data": {
      "text/plain": [
       "customer_state\n",
       "SP    41746\n",
       "RJ    12852\n",
       "MG    11635\n",
       "RS     5466\n",
       "PR     5045\n",
       "Name: order_id, dtype: int64"
      ]
     },
     "execution_count": 12,
     "metadata": {},
     "output_type": "execute_result"
    }
   ],
   "source": [
    "orders_customers_df.groupby(by=\"customer_state\").order_id.nunique().sort_values(ascending=False).head(5)"
   ]
  },
  {
   "cell_type": "code",
   "execution_count": 13,
   "id": "78462f10-1711-44bb-a51f-076d57f35f91",
   "metadata": {},
   "outputs": [
    {
     "data": {
      "text/plain": [
       "customer_state\n",
       "RR     46\n",
       "AP     68\n",
       "AC     81\n",
       "AM    148\n",
       "RO    253\n",
       "Name: order_id, dtype: int64"
      ]
     },
     "execution_count": 13,
     "metadata": {},
     "output_type": "execute_result"
    }
   ],
   "source": [
    "orders_customers_df.groupby(by=\"customer_state\").order_id.nunique().sort_values(ascending=True).head(5)"
   ]
  },
  {
   "cell_type": "code",
   "execution_count": 15,
   "id": "134eff77-4b9c-4809-bdee-995a6883b11e",
   "metadata": {},
   "outputs": [
    {
     "data": {
      "text/plain": [
       "order_status\n",
       "delivered      96478\n",
       "shipped         1107\n",
       "canceled         625\n",
       "unavailable      609\n",
       "invoiced         314\n",
       "processing       301\n",
       "created            5\n",
       "approved           2\n",
       "Name: order_id, dtype: int64"
      ]
     },
     "execution_count": 15,
     "metadata": {},
     "output_type": "execute_result"
    }
   ],
   "source": [
    "orders_customers_df.groupby(by=\"order_status\").order_id.nunique().sort_values(ascending=False)"
   ]
  },
  {
   "cell_type": "markdown",
   "id": "d24bd5ad-dad8-4a97-b250-afca0f10093e",
   "metadata": {},
   "source": [
    "## Visualization & Explanatory Analysis"
   ]
  },
  {
   "cell_type": "markdown",
   "id": "185342c6-7e14-4bfe-b622-7c92133cdf20",
   "metadata": {},
   "source": [
    "### Pertanyaan 1: State dengan pembeli terbanyak dan terkecil"
   ]
  },
  {
   "cell_type": "code",
   "execution_count": null,
   "id": "3d1c1d4e-d187-4505-8f30-29ca33d088fd",
   "metadata": {},
   "outputs": [],
   "source": [
    "fig, ax = plt.subplots(nrows=1, ncols=2, figsize=(24, 6))\n",
    "\n",
    "colors = [\"#72BCD4\", \"#D3D3D3\", \"#D3D3D3\", \"#D3D3D3\", \"#D3D3D3\"]\n",
    "\n",
    "sns.barplot(x=\"order_id\", y=\"customer_state\", data=orders_customers_df.groupby(by=\"customer_state\").order_id.nunique().sort_values(ascending=False).reset_index().head(5), palette=colors, ax=ax[0])\n",
    "ax[0].set_ylabel(None)\n",
    "ax[0].set_xlabel(None)\n",
    "ax[0].set_title(\"State with Most Orders\", loc=\"center\", fontsize=15)\n",
    "ax[0].tick_params(axis='y', labelsize=12)\n",
    "\n",
    "sns.barplot(x=\"order_id\", y=\"customer_state\", data=orders_customers_df.groupby(by=\"customer_state\").order_id.nunique().sort_values(ascending=True).reset_index().head(5), palette=colors, ax=ax[1])\n",
    "ax[1].set_ylabel(None)\n",
    "ax[1].set_xlabel(None)\n",
    "ax[1].invert_xaxis()\n",
    "ax[1].yaxis.set_label_position(\"right\")\n",
    "ax[1].yaxis.tick_right()\n",
    "ax[1].set_title(\"State with Least Orders\", loc=\"center\", fontsize=15)\n",
    "ax[1].tick_params(axis='y', labelsize=12)\n",
    "\n",
    "plt.suptitle(\"States with Most and Least Orders\", fontsize=20)\n",
    "plt.show()"
   ]
  },
  {
   "cell_type": "markdown",
   "id": "b8f63427-a6c8-48b6-82be-ead72dabf670",
   "metadata": {},
   "source": [
    "### Pertanyaan 2: Bagaimana demografi/persebaran status order?"
   ]
  },
  {
   "cell_type": "code",
   "execution_count": null,
   "id": "26bdc8fa-112a-43da-987a-14b3e2e2049b",
   "metadata": {},
   "outputs": [],
   "source": [
    "plt.figure(figsize=(10,5))\n",
    "colors = [\"#72BCD4\", \"#D3D3D3\", \"#D3D3D3\", \"#D3D3D3\", \"#D3D3D3\", \"#D3D3D3\", \"#D3D3D3\", \"#D3D3D3\"]\n",
    "sns.barplot(\n",
    "    y=\"order_id\",\n",
    "    x=\"order_status\",\n",
    "    data=orders_customers_df.groupby(by=\"order_status\").order_id.nunique().sort_values(ascending=False).reset_index(),\n",
    "    palette=colors\n",
    ")\n",
    "plt.title(\"Number of Order by Status\", loc=\"center\", fontsize=15)\n",
    "plt.ylabel(None)\n",
    "plt.xlabel(None)\n",
    "plt.tick_params(axis='x', labelsize=12)\n",
    "plt.show()"
   ]
  },
  {
   "cell_type": "markdown",
   "id": "afb86017-59a8-44f6-a133-00ad290117d5",
   "metadata": {},
   "source": [
    "## Conclusion\n",
    "\n",
    "- Pertanyaan 1: State dengan pembelian terbanyak dari SP sebanyak 41746 dan paling sedikit dari RR sebanyak 46\n",
    "- Pertanyaan 2: Ada sebanyak 96478 pembelian dengan status delivered, 1107 shipped, 625 canceled, 609 unavailable, 314 invoiced, 301 processing, 5 created dan 2 sebanyak approved."
   ]
  }
 ],
 "metadata": {
  "kernelspec": {
   "display_name": "Python 3 (ipykernel)",
   "language": "python",
   "name": "python3"
  },
  "language_info": {
   "codemirror_mode": {
    "name": "ipython",
    "version": 3
   },
   "file_extension": ".py",
   "mimetype": "text/x-python",
   "name": "python",
   "nbconvert_exporter": "python",
   "pygments_lexer": "ipython3",
   "version": "3.10.4"
  }
 },
 "nbformat": 4,
 "nbformat_minor": 5
}
